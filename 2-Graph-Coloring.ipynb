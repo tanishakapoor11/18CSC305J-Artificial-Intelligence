{
  "nbformat": 4,
  "nbformat_minor": 0,
  "metadata": {
    "colab": {
      "provenance": [],
      "authorship_tag": "ABX9TyNlKEyTa+me9l0SgTWMUGLp",
      "include_colab_link": true
    },
    "kernelspec": {
      "name": "python3",
      "display_name": "Python 3"
    },
    "language_info": {
      "name": "python"
    }
  },
  "cells": [
    {
      "cell_type": "markdown",
      "metadata": {
        "id": "view-in-github",
        "colab_type": "text"
      },
      "source": [
        "<a href=\"https://colab.research.google.com/github/tanishakapoor11/18CSC305J-Artificial-Intelligence/blob/main/2-Graph-Coloring.ipynb\" target=\"_parent\"><img src=\"https://colab.research.google.com/assets/colab-badge.svg\" alt=\"Open In Colab\"/></a>"
      ]
    },
    {
      "cell_type": "code",
      "execution_count": 1,
      "metadata": {
        "colab": {
          "base_uri": "https://localhost:8080/"
        },
        "id": "kSq7ylbHgRCH",
        "outputId": "1f280da2-64f5-4e2d-baa4-ad94e07c7b4a"
      },
      "outputs": [
        {
          "output_type": "stream",
          "name": "stdout",
          "text": [
            "Color assigned to vertex 0 is BLUE\n",
            "Color assigned to vertex 1 is GREEN\n",
            "Color assigned to vertex 2 is BLUE\n",
            "Color assigned to vertex 3 is RED\n",
            "Color assigned to vertex 4 is RED\n",
            "Color assigned to vertex 5 is GREEN\n"
          ]
        }
      ],
      "source": [
        "class Graph:\n",
        "\n",
        "    # Constructor\n",
        "    def __init__(self, edges, N):\n",
        "        \n",
        "        self.adj = [[] for _ in range(N)]\n",
        "\n",
        "        # add edges to the undirected graph\n",
        "        for (src, dest) in edges:\n",
        "            self.adj[src].append(dest)\n",
        "            self.adj[dest].append(src)\n",
        "\n",
        "\n",
        "# Function to assign colors to vertices of graph\n",
        "def colorGraph(graph):\n",
        "\n",
        "    # stores color assigned to each vertex\n",
        "    result = {}\n",
        "\n",
        "    # assign color to vertex one by one\n",
        "    for u in range(N):\n",
        "\n",
        "        # set to store color of adjacent vertices of u\n",
        "        # check colors of adjacent vertices of u and store in set\n",
        "        assigned = set([result.get(i) for i in graph.adj[u] if i in result])\n",
        "\n",
        "        # check for first free color\n",
        "        color = 1\n",
        "        for c in assigned:\n",
        "            if color != c:\n",
        "                break\n",
        "            color = color + 1\n",
        "\n",
        "        # assigns vertex u the first available color\n",
        "        result[u] = color\n",
        "\n",
        "    for v in range(N):\n",
        "        print(\"Color assigned to vertex\", v, \"is\", colors[result[v]])\n",
        "\n",
        "\n",
        "\n",
        "# Greedy coloring of graph\n",
        "\n",
        "\n",
        "    # Add more colors for graphs with many more vertices\n",
        "colors = [ \"\",\"BLUE\",\"GREEN\",\"RED\",\"YELLOW\",\"ORANGE\",\"PINK\",\"BLACK\",\"BROWN\",\"WHITE\",\n",
        "          \"PURPLE\",\"VIOLET\"]\n",
        "\n",
        "    #  of graph edges as per above diagram\n",
        "edges = [(0, 1), (0, 4), (0, 5), (4, 5), (1, 4), (1, 3), (2, 3), (2, 4)]\n",
        "\n",
        "    # Set number of vertices in the graph\n",
        "N = 6\n",
        "    # create a graph from edges\n",
        "graph = Graph(edges, N)\n",
        "    # color graph using greedy algorithm\n",
        "colorGraph(graph)"
      ]
    },
    {
      "cell_type": "code",
      "source": [
        "#Another method\n",
        "\n",
        "colors = ['Red', 'Blue', 'Green']\n",
        "\n",
        "states = ['Andhra', 'Karnataka', 'TamilNadu', 'Kerala']\n",
        "\n",
        "neighbors = {}\n",
        "neighbors['Andhra'] = ['Karnataka', 'TamilNadu']\n",
        "neighbors['Karnataka'] = ['Andhra', 'TamilNadu', 'Kerala']\n",
        "neighbors['TamilNadu'] = ['Andhra', 'Karnataka', 'Kerala']\n",
        "neighbors['Kerala'] = ['Karnataka', 'TamilNadu']\n",
        "neighbors['Delhi'] = ['TamilNadu', 'Kerala']\n",
        "\n",
        "\n",
        "colors_of_states = {}\n",
        "\n",
        "def promising(state, color):\n",
        "    for neighbor in neighbors.get(state): \n",
        "        color_of_neighbor = colors_of_states.get(neighbor)\n",
        "        if color_of_neighbor == color:\n",
        "            return False\n",
        "\n",
        "    return True\n",
        "\n",
        "def get_color_for_state(state):\n",
        "    for color in colors:\n",
        "        if promising(state, color):\n",
        "            return color\n",
        "\n",
        "def main():\n",
        "    for state in states:\n",
        "        colors_of_states[state] = get_color_for_state(state)\n",
        "\n",
        "    print(colors_of_states)\n",
        "\n",
        "\n",
        "main()"
      ],
      "metadata": {
        "colab": {
          "base_uri": "https://localhost:8080/"
        },
        "id": "LalZ9glIgb_E",
        "outputId": "57ed2a7c-32dd-4890-b3f3-e43c8ee66a61"
      },
      "execution_count": 2,
      "outputs": [
        {
          "output_type": "stream",
          "name": "stdout",
          "text": [
            "{'Andhra': 'Red', 'Karnataka': 'Blue', 'TamilNadu': 'Green', 'Kerala': 'Red'}\n"
          ]
        }
      ]
    },
    {
      "cell_type": "markdown",
      "source": [],
      "metadata": {
        "id": "mdo-85CjgoF5"
      }
    }
  ]
}