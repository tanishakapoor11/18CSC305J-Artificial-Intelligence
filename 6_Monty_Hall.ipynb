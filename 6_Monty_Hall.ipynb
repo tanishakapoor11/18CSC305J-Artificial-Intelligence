{
  "nbformat": 4,
  "nbformat_minor": 0,
  "metadata": {
    "colab": {
      "provenance": [],
      "authorship_tag": "ABX9TyOx/B2MX/TzgTWTT0kkPXzy",
      "include_colab_link": true
    },
    "kernelspec": {
      "name": "python3",
      "display_name": "Python 3"
    },
    "language_info": {
      "name": "python"
    }
  },
  "cells": [
    {
      "cell_type": "markdown",
      "metadata": {
        "id": "view-in-github",
        "colab_type": "text"
      },
      "source": [
        "<a href=\"https://colab.research.google.com/github/tanishakapoor11/18CSC305J-Artificial-Intelligence/blob/main/6_Monty_Hall.ipynb\" target=\"_parent\"><img src=\"https://colab.research.google.com/assets/colab-badge.svg\" alt=\"Open In Colab\"/></a>"
      ]
    },
    {
      "cell_type": "code",
      "execution_count": 2,
      "metadata": {
        "colab": {
          "base_uri": "https://localhost:8080/",
          "height": 313
        },
        "id": "JazQlyzVkyPf",
        "outputId": "1df91540-c7f4-4b2d-ef3a-ecc1449f4b15"
      },
      "outputs": [
        {
          "output_type": "display_data",
          "data": {
            "text/plain": [
              "<Figure size 432x288 with 1 Axes>"
            ],
            "image/png": "[encoded data removed]"
          },
          "metadata": {
            "needs_background": "light"
          }
        },
        {
          "output_type": "stream",
          "name": "stdout",
          "text": [
            "Probability of Success on switching door for 100000 precision and 100 runs is 0.6666605\n"
          ]
        }
      ],
      "source": [
        "import random\n",
        "import matplotlib.pyplot as plt\n",
        "\n",
        "def switch_doors_experiment():\n",
        "    # compute the correct door randomly\n",
        "    correct_door = random.choice([1, 2, 3])\n",
        "    # choose a door randomly\n",
        "    door = random.choice([1, 2, 3])\n",
        "\n",
        "    # Among two remaining door, get a random incorrect door\n",
        "    doors = [1,2,3]\n",
        "    try:\n",
        "        doors.remove(door)\n",
        "        doors.remove(correct_door)\n",
        "    except:\n",
        "        pass\n",
        "\n",
        "    random_incorrect_door = random.choice(doors)\n",
        "\n",
        "    # Remove the random incorrect door from the options available to you\n",
        "    doors = [1, 2, 3]\n",
        "    doors.remove(random_incorrect_door)\n",
        "\n",
        "    # Now among your original choice of door and the new set of options,\n",
        "    # switch your choice\n",
        "\n",
        "    # Remove your original choice from the options\n",
        "    doors.remove(door)\n",
        "    # Now as only one option is there within\n",
        "    final_choice = doors[0]\n",
        "\n",
        "    # If the final choice is the correct door, then return 1, else return 0\n",
        "    if final_choice == correct_door:\n",
        "        return 1\n",
        "    else:\n",
        "        return 0\n",
        "\n",
        "def probability_of_success_on_switch_door(precision):\n",
        "    switch_door = 0\n",
        "    # run the switch door experiment precision amount of times \n",
        "    # and increment the outcome in switch_door counter\n",
        "    for i in range(precision):\n",
        "      switch_door = switch_door + switch_doors_experiment()\n",
        "\n",
        "    # Probability of success while switching doors = \n",
        "    #   num of times the experiment was successful / total number of runs\n",
        "    return switch_door/precision\n",
        "\n",
        "# Do 100 runs with precision 100000\n",
        "runs = 100\n",
        "total = 0\n",
        "x = []\n",
        "y = []\n",
        "precision = 100000\n",
        "\n",
        "for i in range(runs):\n",
        "    total = total + probability_of_success_on_switch_door(precision)\n",
        "    x.append(i+1)\n",
        "    y.append(total/(i+1))\n",
        "\n",
        "# Plot the probability vs runs on a matplotlib graph\n",
        "plt.plot(x, y)\n",
        "\n",
        "plt.xlabel('Runs')\n",
        "plt.ylabel('Probability of Success while Switching')\n",
        "\n",
        "plt.title('Monty Hall problem')\n",
        "\n",
        "plt.ylim(0,1)\n",
        "plt.xlim(1,runs)\n",
        "\n",
        "plt.show()\n",
        "print(\"Probability of Success on switching door for {} precision and {} runs is {}\".format(precision, runs, total/runs))"
      ]
    },
    {
      "cell_type": "code",
      "source": [],
      "metadata": {
        "id": "kHvHr0iZk8zG"
      },
      "execution_count": null,
      "outputs": []
    }
  ]
}