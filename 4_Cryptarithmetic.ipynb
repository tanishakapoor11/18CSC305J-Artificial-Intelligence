{
  "nbformat": 4,
  "nbformat_minor": 0,
  "metadata": {
    "colab": {
      "provenance": [],
      "authorship_tag": "ABX9TyMkpMh/46hyfdw8m3uiigfz",
      "include_colab_link": true
    },
    "kernelspec": {
      "name": "python3",
      "display_name": "Python 3"
    },
    "language_info": {
      "name": "python"
    }
  },
  "cells": [
    {
      "cell_type": "markdown",
      "metadata": {
        "id": "view-in-github",
        "colab_type": "text"
      },
      "source": [
        "<a href=\"https://colab.research.google.com/github/tanishakapoor11/18CSC305J-Artificial-Intelligence/blob/main/4_Cryptarithmetic.ipynb\" target=\"_parent\"><img src=\"https://colab.research.google.com/assets/colab-badge.svg\" alt=\"Open In Colab\"/></a>"
      ]
    },
    {
      "cell_type": "code",
      "execution_count": 1,
      "metadata": {
        "colab": {
          "base_uri": "https://localhost:8080/"
        },
        "id": "ZMEt7kOEiuWk",
        "outputId": "9957d993-0cf3-4ac0-e9c3-2e9435aadb9e"
      },
      "outputs": [
        {
          "output_type": "stream",
          "name": "stdout",
          "text": [
            " send  more  money\n",
            "(9567, 1085, 10652)\n"
          ]
        }
      ],
      "source": [
        "import itertools\n",
        "def solve2():\n",
        "    letters = ('s', 'e', 'n', 'd', 'm', 'o', 'r', 'y')\n",
        "    digits = range(10)\n",
        "    for perm in itertools.permutations(digits, len(letters)):\n",
        "        sol = dict(zip(letters, perm))\n",
        "        if sol['s'] == 0 or sol['m'] == 0:\n",
        "            continue\n",
        "        send = 1000 * sol['s'] + 100 * sol['e'] + 10 * sol['n'] + sol['d']\n",
        "        more = 1000 * sol['m'] + 100 * sol['o'] + 10 * sol['r'] + sol['e']\n",
        "        money = 10000 * sol['m'] + 1000 * sol['o'] + 100 * sol['n'] + 10 * sol['e'] + sol['y']\n",
        "        if send + more == money:\n",
        "          print(\" send\",\" more\",\" money\")\n",
        "          return send, more, money\n",
        "print(solve2())\n"
      ]
    },
    {
      "cell_type": "code",
      "source": [],
      "metadata": {
        "id": "nYNn207pjEv7"
      },
      "execution_count": null,
      "outputs": []
    }
  ]
}