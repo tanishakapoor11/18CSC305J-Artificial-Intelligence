{
  "nbformat": 4,
  "nbformat_minor": 0,
  "metadata": {
    "colab": {
      "provenance": [],
      "authorship_tag": "ABX9TyPNop5DMH/hltmakhbBknIV",
      "include_colab_link": true
    },
    "kernelspec": {
      "name": "python3",
      "display_name": "Python 3"
    },
    "language_info": {
      "name": "python"
    }
  },
  "cells": [
    {
      "cell_type": "markdown",
      "metadata": {
        "id": "view-in-github",
        "colab_type": "text"
      },
      "source": [
        "<a href=\"https://colab.research.google.com/github/tanishakapoor11/18CSC305J-Artificial-Intelligence/blob/main/1_Tower_of_Hanoi.ipynb\" target=\"_parent\"><img src=\"https://colab.research.google.com/assets/colab-badge.svg\" alt=\"Open In Colab\"/></a>"
      ]
    },
    {
      "cell_type": "code",
      "execution_count": null,
      "metadata": {
        "colab": {
          "base_uri": "https://localhost:8080/"
        },
        "id": "vFWXEOMTHBVM",
        "outputId": "438c48e4-08fc-495f-976e-29c41663f930"
      },
      "outputs": [
        {
          "output_type": "stream",
          "name": "stdout",
          "text": [
            "Enter number of Disks:5\n",
            "Move disk 1 from source A to destination B\n",
            "Move disk 2 from source A to destination C\n",
            "Move disk 1 from source B to destination C\n",
            "Move disk 3 from source A to destination B\n",
            "Move disk 1 from source C to destination A\n",
            "Move disk 2 from source C to destination B\n",
            "Move disk 1 from source A to destination B\n",
            "Move disk 4 from source A to destination C\n",
            "Move disk 1 from source B to destination C\n",
            "Move disk 2 from source B to destination A\n",
            "Move disk 1 from source C to destination A\n",
            "Move disk 3 from source B to destination C\n",
            "Move disk 1 from source A to destination B\n",
            "Move disk 2 from source A to destination C\n",
            "Move disk 1 from source B to destination C\n",
            "Move disk 5 from source A to destination B\n",
            "Move disk 1 from source C to destination A\n",
            "Move disk 2 from source C to destination B\n",
            "Move disk 1 from source A to destination B\n",
            "Move disk 3 from source C to destination A\n",
            "Move disk 1 from source B to destination C\n",
            "Move disk 2 from source B to destination A\n",
            "Move disk 1 from source C to destination A\n",
            "Move disk 4 from source C to destination B\n",
            "Move disk 1 from source A to destination B\n",
            "Move disk 2 from source A to destination C\n",
            "Move disk 1 from source B to destination C\n",
            "Move disk 3 from source A to destination B\n",
            "Move disk 1 from source C to destination A\n",
            "Move disk 2 from source C to destination B\n",
            "Move disk 1 from source A to destination B\n"
          ]
        }
      ],
      "source": [
        "def TowerOfHanoi(n , source, destination, auxiliary): \n",
        "    if n==1: \n",
        "        print (\"Move disk 1 from source\",source,\"to destination\",destination) \n",
        "        return\n",
        "    TowerOfHanoi(n-1, source, auxiliary, destination) \n",
        "    print (\"Move disk\",n,\"from source\",source,\"to destination\",destination) \n",
        "    TowerOfHanoi(n-1, auxiliary, destination, source) \n",
        "n = int(input(\"Enter number of Disks:\"))\n",
        "TowerOfHanoi(n,'A','B','C')"
      ]
    },
    {
      "cell_type": "code",
      "source": [],
      "metadata": {
        "id": "6ZJ9GaC7bZxe"
      },
      "execution_count": null,
      "outputs": []
    }
  ]
}